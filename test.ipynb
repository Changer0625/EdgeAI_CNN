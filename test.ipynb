{
 "cells": [
  {
   "cell_type": "code",
   "execution_count": 1,
   "metadata": {},
   "outputs": [
    {
     "name": "stdout",
     "output_type": "stream",
     "text": [
      "Using ready-made DataFrame\n"
     ]
    },
    {
     "data": {
      "text/plain": [
       "<Figure size 1000x600 with 0 Axes>"
      ]
     },
     "metadata": {},
     "output_type": "display_data"
    }
   ],
   "source": [
    "import numpy as np\n",
    "import pickle\n",
    "import pandas as pd\n",
    "import tensorflow as tf\n",
    "from tensorflow.keras import layers, models\n",
    "from sklearn.model_selection import train_test_split\n",
    "import load\n",
    "\n",
    "# 假設你已經載入並預處理 WESAD 數據\n",
    "# X 為 (samples, timesteps, features)，這裡以 EDA 信號為例\n",
    "# y 為壓力狀態類別\n",
    "\n",
    "\n",
    "# 載入資料\n",
    "wesad = load.WESAD()\n",
    "df = wesad.separate_and_feature_extract(sample_n=420000)"
   ]
  },
  {
   "cell_type": "code",
   "execution_count": 2,
   "metadata": {},
   "outputs": [
    {
     "data": {
      "text/plain": [
       "array([[[1, 'S10', 0.021379324848018657, ..., 0.10544673374720982,\n",
       "         0.11477304250001907, 34.29309844970703],\n",
       "        [1, 'S10', 0.0214518810439985, ..., 0.023563058035714287,\n",
       "         0.12045248597860336, 34.2890510559082],\n",
       "        [1, 'S10', 0.02136242519120789, ..., 0.03946184430803571,\n",
       "         0.11820656806230545, 34.28973388671875],\n",
       "        ...,\n",
       "        [1, 'S10', 0.02147831553250883, ..., 0.11543361118861607,\n",
       "         0.11801749467849731, 34.29108428955078],\n",
       "        [1, 'S10', 0.021757230706195046, ..., 0.04965449741908482,\n",
       "         0.11596771329641342, 34.291866302490234],\n",
       "        [1, 'S10', 0.021459099959067588, ..., 0.06472930908203126,\n",
       "         0.11862567812204361, 34.29092025756836]],\n",
       "\n",
       "       [[1, 'S11', 0.012037593266755789, ..., 0.0012320382254464286,\n",
       "         0.2988918125629425, 34.36301040649414],\n",
       "        [1, 'S11', 0.011879841876310637, ..., 0.07897099086216518,\n",
       "         0.29830145835876465, 34.35700988769531],\n",
       "        [1, 'S11', 0.012031829853284569, ..., 0.01040802001953125,\n",
       "         0.3018548786640167, 34.357261657714844],\n",
       "        ...,\n",
       "        [1, 'S11', 0.011810866216578616, ..., 0.05186614990234375,\n",
       "         0.30128079652786255, 34.35944366455078],\n",
       "        [1, 'S11', 0.011750418187194068, ..., 0.10242505754743303,\n",
       "         0.3009905517101288, 34.35894775390625],\n",
       "        [1, 'S11', 0.011824431415076102, ..., 0.019189235142299105,\n",
       "         0.29817256331443787, 34.365447998046875]],\n",
       "\n",
       "       [[1, 'S13', 0.03875989624907459, ..., 0.06807294573102679,\n",
       "         0.25314193964004517, 33.50776672363281],\n",
       "        [1, 'S13', 0.039746986522347504, ..., 0.12163347516741072,\n",
       "         0.2522401511669159, 33.50599670410156],\n",
       "        [1, 'S13', 0.03966971929735526, ..., 0.02838134765625,\n",
       "         0.25446003675460815, 33.505123138427734],\n",
       "        ...,\n",
       "        [1, 'S13', 0.039273432820792445, ..., 0.07488599504743304,\n",
       "         0.2520412802696228, 33.50463104248047],\n",
       "        [1, 'S13', 0.04304178322904178, ..., 0.030904497419084822,\n",
       "         0.2540440559387207, 33.50812911987305],\n",
       "        [1, 'S13', 0.04118985558609575, ..., 0.03209381103515625,\n",
       "         0.25164738297462463, 33.50542449951172]],\n",
       "\n",
       "       ...,\n",
       "\n",
       "       [[2, 'S7', 0.020484696655760238, ..., 0.018431527273995534,\n",
       "         0.09293859452009201, 34.90945053100586],\n",
       "        [2, 'S7', 0.02083726149585333, ..., 0.10738590785435267,\n",
       "         0.09291548281908035, 34.90927505493164],\n",
       "        [2, 'S7', 0.020550408690668563, ..., -0.0666778564453125,\n",
       "         0.09297113120555878, 34.90995788574219],\n",
       "        ...,\n",
       "        [2, 'S7', 0.020555354194723967, ..., 0.08864310128348214,\n",
       "         0.09328153729438782, 34.910186767578125],\n",
       "        [2, 'S7', 0.021353211121801642, ..., 0.09002293178013393,\n",
       "         0.092617928981781, 34.91111755371094],\n",
       "        [2, 'S7', 0.02080743689896727, ..., 0.030621337890625,\n",
       "         0.09274762868881226, 34.91120147705078]],\n",
       "\n",
       "       [[2, 'S8', 0.02764047933245973, ..., 0.1580437796456473,\n",
       "         0.12262818962335587, 35.106693267822266],\n",
       "        [2, 'S8', 0.028309744417459242, ..., 0.11205291748046875,\n",
       "         0.1215389221906662, 35.10370635986328],\n",
       "        [2, 'S8', 0.028756441845283653, ..., 0.1630401611328125,\n",
       "         0.12395946681499481, 35.10301208496094],\n",
       "        ...,\n",
       "        [2, 'S8', 0.028598423975319292, ..., 0.13053763253348213,\n",
       "         0.12371008098125458, 35.105472564697266],\n",
       "        [2, 'S8', 0.02954392894020418, ..., 0.022025626046316964,\n",
       "         0.12139630317687988, 35.10719680786133],\n",
       "        [2, 'S8', 0.02893772525597477, ..., 0.1428342546735491,\n",
       "         0.123135507106781, 35.10562515258789]],\n",
       "\n",
       "       [[2, 'S9', 0.03173295204622158, ..., 0.07251674107142857,\n",
       "         0.09340948611497879, 34.567569732666016],\n",
       "        [2, 'S9', 0.03189366340612356, ..., 0.06132747105189732,\n",
       "         0.09120870381593704, 34.57030487060547],\n",
       "        [2, 'S9', 0.031812013595643555, ..., 0.02678375244140625,\n",
       "         0.09258116781711578, 34.56627655029297],\n",
       "        ...,\n",
       "        [2, 'S9', 0.03179648613573094, ..., 0.13242579868861606,\n",
       "         0.09395428001880646, 34.566463470458984],\n",
       "        [2, 'S9', 0.03211761303894369, ..., 0.038631766183035716,\n",
       "         0.09234006702899933, 34.567569732666016],\n",
       "        [2, 'S9', 0.03199260729677039, ..., 0.08694196428571428,\n",
       "         0.09636522829532623, 34.566097259521484]]], dtype=object)"
      ]
     },
     "execution_count": 2,
     "metadata": {},
     "output_type": "execute_result"
    }
   ],
   "source": [
    "df"
   ]
  },
  {
   "cell_type": "code",
   "execution_count": 3,
   "metadata": {},
   "outputs": [],
   "source": [
    "y = df[:, 0, 0]  # 取得 `label`\n",
    "X = df[:, :, 2:]  # 移除 `label`,'subject'"
   ]
  },
  {
   "cell_type": "code",
   "execution_count": 4,
   "metadata": {},
   "outputs": [
    {
     "data": {
      "text/plain": [
       "(30, 59, 18)"
      ]
     },
     "execution_count": 4,
     "metadata": {},
     "output_type": "execute_result"
    }
   ],
   "source": [
    "X.shape"
   ]
  },
  {
   "cell_type": "code",
   "execution_count": 5,
   "metadata": {},
   "outputs": [
    {
     "data": {
      "text/plain": [
       "(30,)"
      ]
     },
     "execution_count": 5,
     "metadata": {},
     "output_type": "execute_result"
    }
   ],
   "source": [
    "y.shape"
   ]
  },
  {
   "cell_type": "code",
   "execution_count": 6,
   "metadata": {},
   "outputs": [
    {
     "data": {
      "text/plain": [
       "(30, 59, 20)"
      ]
     },
     "execution_count": 6,
     "metadata": {},
     "output_type": "execute_result"
    }
   ],
   "source": [
    "df.shape"
   ]
  },
  {
   "cell_type": "code",
   "execution_count": 7,
   "metadata": {},
   "outputs": [
    {
     "data": {
      "text/plain": [
       "array([[[0.021379324848018657, 0.8897033138786044, 0.06319774148725227,\n",
       "         ..., 0.10544673374720982, 0.11477304250001907,\n",
       "         34.29309844970703],\n",
       "        [0.0214518810439985, 0.8892949994632176, 0.06258256514570928,\n",
       "         ..., 0.023563058035714287, 0.12045248597860336,\n",
       "         34.2890510559082],\n",
       "        [0.02136242519120789, 0.8895389994893755, 0.06269687220814518,\n",
       "         ..., 0.03946184430803571, 0.11820656806230545,\n",
       "         34.28973388671875],\n",
       "        ...,\n",
       "        [0.02147831553250883, 0.8894220858131137, 0.062214745045433374,\n",
       "         ..., 0.11543361118861607, 0.11801749467849731,\n",
       "         34.29108428955078],\n",
       "        [0.021757230706195046, 0.8891831139326095, 0.06327834093839158,\n",
       "         ..., 0.04965449741908482, 0.11596771329641342,\n",
       "         34.291866302490234],\n",
       "        [0.021459099959067588, 0.889101913537298, 0.06377191756928653,\n",
       "         ..., 0.06472930908203126, 0.11862567812204361,\n",
       "         34.29092025756836]],\n",
       "\n",
       "       [[0.012037593266755789, 0.8782380006313324, 0.03465469142960318,\n",
       "         ..., 0.0012320382254464286, 0.2988918125629425,\n",
       "         34.36301040649414],\n",
       "        [0.011879841876310637, 0.8782730003765651, 0.03424176112429047,\n",
       "         ..., 0.07897099086216518, 0.29830145835876465,\n",
       "         34.35700988769531],\n",
       "        [0.012031829853284569, 0.8781776283638818, 0.03440074573381678,\n",
       "         ..., 0.01040802001953125, 0.3018548786640167,\n",
       "         34.357261657714844],\n",
       "        ...,\n",
       "        [0.011810866216578616, 0.8783220293862479, 0.03425217449173202,\n",
       "         ..., 0.05186614990234375, 0.30128079652786255,\n",
       "         34.35944366455078],\n",
       "        [0.011750418187194068, 0.8783153151614326, 0.03407554718337492,\n",
       "         ..., 0.10242505754743303, 0.3009905517101288,\n",
       "         34.35894775390625],\n",
       "        [0.011824431415076102, 0.8783103718417031, 0.0345449498015112,\n",
       "         ..., 0.019189235142299105, 0.29817256331443787,\n",
       "         34.365447998046875]],\n",
       "\n",
       "       [[0.03875989624907459, 0.8713677992480142, 0.12075662170573728,\n",
       "         ..., 0.06807294573102679, 0.25314193964004517,\n",
       "         33.50776672363281],\n",
       "        [0.039746986522347504, 0.870493256688118, 0.12254448821203881,\n",
       "         ..., 0.12163347516741072, 0.2522401511669159,\n",
       "         33.50599670410156],\n",
       "        [0.03966971929735526, 0.8704099431037903, 0.12229726830856774,\n",
       "         ..., 0.02838134765625, 0.25446003675460815, 33.505123138427734],\n",
       "        ...,\n",
       "        [0.039273432820792445, 0.8708789140156337, 0.12264422017464682,\n",
       "         ..., 0.07488599504743304, 0.2520412802696228,\n",
       "         33.50463104248047],\n",
       "        [0.04304178322904178, 0.8704706565311977, 0.1216908187160184,\n",
       "         ..., 0.030904497419084822, 0.2540440559387207,\n",
       "         33.50812911987305],\n",
       "        [0.04118985558609575, 0.8705994851078306, 0.12340480820615352,\n",
       "         ..., 0.03209381103515625, 0.25164738297462463,\n",
       "         33.50542449951172]],\n",
       "\n",
       "       ...,\n",
       "\n",
       "       [[0.020484696655760238, 0.8949555721793856, 0.01847121775066202,\n",
       "         ..., 0.018431527273995534, 0.09293859452009201,\n",
       "         34.90945053100586],\n",
       "        [0.02083726149585333, 0.894996314729963, 0.018520105083652497,\n",
       "         ..., 0.10738590785435267, 0.09291548281908035,\n",
       "         34.90927505493164],\n",
       "        [0.020550408690668563, 0.8954737428767341, 0.018992135094436556,\n",
       "         ..., -0.0666778564453125, 0.09297113120555878,\n",
       "         34.90995788574219],\n",
       "        ...,\n",
       "        [0.020555354194723967, 0.8951602291039058, 0.019011671917441655,\n",
       "         ..., 0.08864310128348214, 0.09328153729438782,\n",
       "         34.910186767578125],\n",
       "        [0.021353211121801642, 0.8950817998817989, 0.018526621561618956,\n",
       "         ..., 0.09002293178013393, 0.092617928981781, 34.91111755371094],\n",
       "        [0.02080743689896727, 0.8956705726044518, 0.01823760402078302,\n",
       "         ..., 0.030621337890625, 0.09274762868881226, 34.91120147705078]],\n",
       "\n",
       "       [[0.02764047933245973, 0.9138648566518511, 0.0499535019773391,\n",
       "         ..., 0.1580437796456473, 0.12262818962335587,\n",
       "         35.106693267822266],\n",
       "        [0.028309744417459242, 0.9142878860064916, 0.04811584528817,\n",
       "         ..., 0.11205291748046875, 0.1215389221906662,\n",
       "         35.10370635986328],\n",
       "        [0.028756441845283653, 0.91385831454822, 0.04744239411593217,\n",
       "         ..., 0.1630401611328125, 0.12395946681499481,\n",
       "         35.10301208496094],\n",
       "        ...,\n",
       "        [0.028598423975319292, 0.9145054002829961, 0.04887449575275645,\n",
       "         ..., 0.13053763253348213, 0.12371008098125458,\n",
       "         35.105472564697266],\n",
       "        [0.02954392894020418, 0.9141100860152925, 0.049087774708049946,\n",
       "         ..., 0.022025626046316964, 0.12139630317687988,\n",
       "         35.10719680786133],\n",
       "        [0.02893772525597477, 0.9138358288322176, 0.04849421260305681,\n",
       "         ..., 0.1428342546735491, 0.123135507106781, 35.10562515258789]],\n",
       "\n",
       "       [[0.03173295204622158, 0.8306882295608521, 0.013877432494716168,\n",
       "         ..., 0.07251674107142857, 0.09340948611497879,\n",
       "         34.567569732666016],\n",
       "        [0.03189366340612356, 0.8301248852014541, 0.013761352667819625,\n",
       "         ..., 0.06132747105189732, 0.09120870381593704,\n",
       "         34.57030487060547],\n",
       "        [0.031812013595643555, 0.8307899715900421, 0.014502736766346579,\n",
       "         ..., 0.02678375244140625, 0.09258116781711578,\n",
       "         34.56627655029297],\n",
       "        ...,\n",
       "        [0.03179648613573094, 0.8304980862651552, 0.014211668208100998,\n",
       "         ..., 0.13242579868861606, 0.09395428001880646,\n",
       "         34.566463470458984],\n",
       "        [0.03211761303894369, 0.8309155718258449, 0.014365651263888016,\n",
       "         ..., 0.038631766183035716, 0.09234006702899933,\n",
       "         34.567569732666016],\n",
       "        [0.03199260729677039, 0.8307835144656045, 0.014430797958968128,\n",
       "         ..., 0.08694196428571428, 0.09636522829532623,\n",
       "         34.566097259521484]]], dtype=object)"
      ]
     },
     "execution_count": 7,
     "metadata": {},
     "output_type": "execute_result"
    }
   ],
   "source": [
    "X"
   ]
  },
  {
   "cell_type": "code",
   "execution_count": 8,
   "metadata": {},
   "outputs": [],
   "source": [
    "y=y-1"
   ]
  },
  {
   "cell_type": "code",
   "execution_count": 9,
   "metadata": {},
   "outputs": [
    {
     "data": {
      "text/plain": [
       "array([0, 0, 0, 0, 0, 0, 0, 0, 0, 0, 0, 0, 0, 0, 0, 1, 1, 1, 1, 1, 1, 1,\n",
       "       1, 1, 1, 1, 1, 1, 1, 1], dtype=object)"
      ]
     },
     "execution_count": 9,
     "metadata": {},
     "output_type": "execute_result"
    }
   ],
   "source": [
    "y"
   ]
  },
  {
   "cell_type": "code",
   "execution_count": 10,
   "metadata": {},
   "outputs": [
    {
     "name": "stdout",
     "output_type": "stream",
     "text": [
      "X dtype: float32\n",
      "y dtype: int32\n"
     ]
    }
   ],
   "source": [
    "import numpy as np\n",
    "\n",
    "X = np.array(X, dtype=np.float32)\n",
    "\n",
    "y = np.array(y, dtype=np.int32)\n",
    "\n",
    "print(\"X dtype:\", X.dtype)  # 應該是 float32\n",
    "print(\"y dtype:\", y.dtype)  # 應該是 int32"
   ]
  },
  {
   "cell_type": "code",
   "execution_count": 11,
   "metadata": {},
   "outputs": [],
   "source": [
    "# 分割訓練測試集\n",
    "X_train, X_test, y_train, y_test = train_test_split(X, y, test_size=0.2, random_state=42)"
   ]
  },
  {
   "cell_type": "code",
   "execution_count": 12,
   "metadata": {},
   "outputs": [
    {
     "data": {
      "text/plain": [
       "(24, 59, 18)"
      ]
     },
     "execution_count": 12,
     "metadata": {},
     "output_type": "execute_result"
    }
   ],
   "source": [
    "X_train.shape"
   ]
  },
  {
   "cell_type": "code",
   "execution_count": 13,
   "metadata": {},
   "outputs": [
    {
     "name": "stdout",
     "output_type": "stream",
     "text": [
      "(59, 18)\n",
      "2\n"
     ]
    },
    {
     "name": "stderr",
     "output_type": "stream",
     "text": [
      "c:\\tensorflow\\.venv\\lib\\site-packages\\keras\\src\\layers\\convolutional\\base_conv.py:107: UserWarning: Do not pass an `input_shape`/`input_dim` argument to a layer. When using Sequential models, prefer using an `Input(shape)` object as the first layer in the model instead.\n",
      "  super().__init__(activity_regularizer=activity_regularizer, **kwargs)\n"
     ]
    },
    {
     "data": {
      "text/html": [
       "<pre style=\"white-space:pre;overflow-x:auto;line-height:normal;font-family:Menlo,'DejaVu Sans Mono',consolas,'Courier New',monospace\"><span style=\"font-weight: bold\">Model: \"sequential\"</span>\n",
       "</pre>\n"
      ],
      "text/plain": [
       "\u001b[1mModel: \"sequential\"\u001b[0m\n"
      ]
     },
     "metadata": {},
     "output_type": "display_data"
    },
    {
     "data": {
      "text/html": [
       "<pre style=\"white-space:pre;overflow-x:auto;line-height:normal;font-family:Menlo,'DejaVu Sans Mono',consolas,'Courier New',monospace\">┏━━━━━━━━━━━━━━━━━━━━━━━━━━━━━━━━━┳━━━━━━━━━━━━━━━━━━━━━━━━┳━━━━━━━━━━━━━━━┓\n",
       "┃<span style=\"font-weight: bold\"> Layer (type)                    </span>┃<span style=\"font-weight: bold\"> Output Shape           </span>┃<span style=\"font-weight: bold\">       Param # </span>┃\n",
       "┡━━━━━━━━━━━━━━━━━━━━━━━━━━━━━━━━━╇━━━━━━━━━━━━━━━━━━━━━━━━╇━━━━━━━━━━━━━━━┩\n",
       "│ conv1d (<span style=\"color: #0087ff; text-decoration-color: #0087ff\">Conv1D</span>)                 │ (<span style=\"color: #00d7ff; text-decoration-color: #00d7ff\">None</span>, <span style=\"color: #00af00; text-decoration-color: #00af00\">59</span>, <span style=\"color: #00af00; text-decoration-color: #00af00\">32</span>)         │         <span style=\"color: #00af00; text-decoration-color: #00af00\">2,912</span> │\n",
       "├─────────────────────────────────┼────────────────────────┼───────────────┤\n",
       "│ max_pooling1d (<span style=\"color: #0087ff; text-decoration-color: #0087ff\">MaxPooling1D</span>)    │ (<span style=\"color: #00d7ff; text-decoration-color: #00d7ff\">None</span>, <span style=\"color: #00af00; text-decoration-color: #00af00\">29</span>, <span style=\"color: #00af00; text-decoration-color: #00af00\">32</span>)         │             <span style=\"color: #00af00; text-decoration-color: #00af00\">0</span> │\n",
       "├─────────────────────────────────┼────────────────────────┼───────────────┤\n",
       "│ conv1d_1 (<span style=\"color: #0087ff; text-decoration-color: #0087ff\">Conv1D</span>)               │ (<span style=\"color: #00d7ff; text-decoration-color: #00d7ff\">None</span>, <span style=\"color: #00af00; text-decoration-color: #00af00\">29</span>, <span style=\"color: #00af00; text-decoration-color: #00af00\">64</span>)         │        <span style=\"color: #00af00; text-decoration-color: #00af00\">10,304</span> │\n",
       "├─────────────────────────────────┼────────────────────────┼───────────────┤\n",
       "│ max_pooling1d_1 (<span style=\"color: #0087ff; text-decoration-color: #0087ff\">MaxPooling1D</span>)  │ (<span style=\"color: #00d7ff; text-decoration-color: #00d7ff\">None</span>, <span style=\"color: #00af00; text-decoration-color: #00af00\">14</span>, <span style=\"color: #00af00; text-decoration-color: #00af00\">64</span>)         │             <span style=\"color: #00af00; text-decoration-color: #00af00\">0</span> │\n",
       "├─────────────────────────────────┼────────────────────────┼───────────────┤\n",
       "│ conv1d_2 (<span style=\"color: #0087ff; text-decoration-color: #0087ff\">Conv1D</span>)               │ (<span style=\"color: #00d7ff; text-decoration-color: #00d7ff\">None</span>, <span style=\"color: #00af00; text-decoration-color: #00af00\">14</span>, <span style=\"color: #00af00; text-decoration-color: #00af00\">128</span>)        │        <span style=\"color: #00af00; text-decoration-color: #00af00\">24,704</span> │\n",
       "├─────────────────────────────────┼────────────────────────┼───────────────┤\n",
       "│ max_pooling1d_2 (<span style=\"color: #0087ff; text-decoration-color: #0087ff\">MaxPooling1D</span>)  │ (<span style=\"color: #00d7ff; text-decoration-color: #00d7ff\">None</span>, <span style=\"color: #00af00; text-decoration-color: #00af00\">7</span>, <span style=\"color: #00af00; text-decoration-color: #00af00\">128</span>)         │             <span style=\"color: #00af00; text-decoration-color: #00af00\">0</span> │\n",
       "├─────────────────────────────────┼────────────────────────┼───────────────┤\n",
       "│ flatten (<span style=\"color: #0087ff; text-decoration-color: #0087ff\">Flatten</span>)               │ (<span style=\"color: #00d7ff; text-decoration-color: #00d7ff\">None</span>, <span style=\"color: #00af00; text-decoration-color: #00af00\">896</span>)            │             <span style=\"color: #00af00; text-decoration-color: #00af00\">0</span> │\n",
       "├─────────────────────────────────┼────────────────────────┼───────────────┤\n",
       "│ dense (<span style=\"color: #0087ff; text-decoration-color: #0087ff\">Dense</span>)                   │ (<span style=\"color: #00d7ff; text-decoration-color: #00d7ff\">None</span>, <span style=\"color: #00af00; text-decoration-color: #00af00\">64</span>)             │        <span style=\"color: #00af00; text-decoration-color: #00af00\">57,408</span> │\n",
       "├─────────────────────────────────┼────────────────────────┼───────────────┤\n",
       "│ dropout (<span style=\"color: #0087ff; text-decoration-color: #0087ff\">Dropout</span>)               │ (<span style=\"color: #00d7ff; text-decoration-color: #00d7ff\">None</span>, <span style=\"color: #00af00; text-decoration-color: #00af00\">64</span>)             │             <span style=\"color: #00af00; text-decoration-color: #00af00\">0</span> │\n",
       "├─────────────────────────────────┼────────────────────────┼───────────────┤\n",
       "│ dense_1 (<span style=\"color: #0087ff; text-decoration-color: #0087ff\">Dense</span>)                 │ (<span style=\"color: #00d7ff; text-decoration-color: #00d7ff\">None</span>, <span style=\"color: #00af00; text-decoration-color: #00af00\">2</span>)              │           <span style=\"color: #00af00; text-decoration-color: #00af00\">130</span> │\n",
       "└─────────────────────────────────┴────────────────────────┴───────────────┘\n",
       "</pre>\n"
      ],
      "text/plain": [
       "┏━━━━━━━━━━━━━━━━━━━━━━━━━━━━━━━━━┳━━━━━━━━━━━━━━━━━━━━━━━━┳━━━━━━━━━━━━━━━┓\n",
       "┃\u001b[1m \u001b[0m\u001b[1mLayer (type)                   \u001b[0m\u001b[1m \u001b[0m┃\u001b[1m \u001b[0m\u001b[1mOutput Shape          \u001b[0m\u001b[1m \u001b[0m┃\u001b[1m \u001b[0m\u001b[1m      Param #\u001b[0m\u001b[1m \u001b[0m┃\n",
       "┡━━━━━━━━━━━━━━━━━━━━━━━━━━━━━━━━━╇━━━━━━━━━━━━━━━━━━━━━━━━╇━━━━━━━━━━━━━━━┩\n",
       "│ conv1d (\u001b[38;5;33mConv1D\u001b[0m)                 │ (\u001b[38;5;45mNone\u001b[0m, \u001b[38;5;34m59\u001b[0m, \u001b[38;5;34m32\u001b[0m)         │         \u001b[38;5;34m2,912\u001b[0m │\n",
       "├─────────────────────────────────┼────────────────────────┼───────────────┤\n",
       "│ max_pooling1d (\u001b[38;5;33mMaxPooling1D\u001b[0m)    │ (\u001b[38;5;45mNone\u001b[0m, \u001b[38;5;34m29\u001b[0m, \u001b[38;5;34m32\u001b[0m)         │             \u001b[38;5;34m0\u001b[0m │\n",
       "├─────────────────────────────────┼────────────────────────┼───────────────┤\n",
       "│ conv1d_1 (\u001b[38;5;33mConv1D\u001b[0m)               │ (\u001b[38;5;45mNone\u001b[0m, \u001b[38;5;34m29\u001b[0m, \u001b[38;5;34m64\u001b[0m)         │        \u001b[38;5;34m10,304\u001b[0m │\n",
       "├─────────────────────────────────┼────────────────────────┼───────────────┤\n",
       "│ max_pooling1d_1 (\u001b[38;5;33mMaxPooling1D\u001b[0m)  │ (\u001b[38;5;45mNone\u001b[0m, \u001b[38;5;34m14\u001b[0m, \u001b[38;5;34m64\u001b[0m)         │             \u001b[38;5;34m0\u001b[0m │\n",
       "├─────────────────────────────────┼────────────────────────┼───────────────┤\n",
       "│ conv1d_2 (\u001b[38;5;33mConv1D\u001b[0m)               │ (\u001b[38;5;45mNone\u001b[0m, \u001b[38;5;34m14\u001b[0m, \u001b[38;5;34m128\u001b[0m)        │        \u001b[38;5;34m24,704\u001b[0m │\n",
       "├─────────────────────────────────┼────────────────────────┼───────────────┤\n",
       "│ max_pooling1d_2 (\u001b[38;5;33mMaxPooling1D\u001b[0m)  │ (\u001b[38;5;45mNone\u001b[0m, \u001b[38;5;34m7\u001b[0m, \u001b[38;5;34m128\u001b[0m)         │             \u001b[38;5;34m0\u001b[0m │\n",
       "├─────────────────────────────────┼────────────────────────┼───────────────┤\n",
       "│ flatten (\u001b[38;5;33mFlatten\u001b[0m)               │ (\u001b[38;5;45mNone\u001b[0m, \u001b[38;5;34m896\u001b[0m)            │             \u001b[38;5;34m0\u001b[0m │\n",
       "├─────────────────────────────────┼────────────────────────┼───────────────┤\n",
       "│ dense (\u001b[38;5;33mDense\u001b[0m)                   │ (\u001b[38;5;45mNone\u001b[0m, \u001b[38;5;34m64\u001b[0m)             │        \u001b[38;5;34m57,408\u001b[0m │\n",
       "├─────────────────────────────────┼────────────────────────┼───────────────┤\n",
       "│ dropout (\u001b[38;5;33mDropout\u001b[0m)               │ (\u001b[38;5;45mNone\u001b[0m, \u001b[38;5;34m64\u001b[0m)             │             \u001b[38;5;34m0\u001b[0m │\n",
       "├─────────────────────────────────┼────────────────────────┼───────────────┤\n",
       "│ dense_1 (\u001b[38;5;33mDense\u001b[0m)                 │ (\u001b[38;5;45mNone\u001b[0m, \u001b[38;5;34m2\u001b[0m)              │           \u001b[38;5;34m130\u001b[0m │\n",
       "└─────────────────────────────────┴────────────────────────┴───────────────┘\n"
      ]
     },
     "metadata": {},
     "output_type": "display_data"
    },
    {
     "data": {
      "text/html": [
       "<pre style=\"white-space:pre;overflow-x:auto;line-height:normal;font-family:Menlo,'DejaVu Sans Mono',consolas,'Courier New',monospace\"><span style=\"font-weight: bold\"> Total params: </span><span style=\"color: #00af00; text-decoration-color: #00af00\">95,458</span> (372.88 KB)\n",
       "</pre>\n"
      ],
      "text/plain": [
       "\u001b[1m Total params: \u001b[0m\u001b[38;5;34m95,458\u001b[0m (372.88 KB)\n"
      ]
     },
     "metadata": {},
     "output_type": "display_data"
    },
    {
     "data": {
      "text/html": [
       "<pre style=\"white-space:pre;overflow-x:auto;line-height:normal;font-family:Menlo,'DejaVu Sans Mono',consolas,'Courier New',monospace\"><span style=\"font-weight: bold\"> Trainable params: </span><span style=\"color: #00af00; text-decoration-color: #00af00\">95,458</span> (372.88 KB)\n",
       "</pre>\n"
      ],
      "text/plain": [
       "\u001b[1m Trainable params: \u001b[0m\u001b[38;5;34m95,458\u001b[0m (372.88 KB)\n"
      ]
     },
     "metadata": {},
     "output_type": "display_data"
    },
    {
     "data": {
      "text/html": [
       "<pre style=\"white-space:pre;overflow-x:auto;line-height:normal;font-family:Menlo,'DejaVu Sans Mono',consolas,'Courier New',monospace\"><span style=\"font-weight: bold\"> Non-trainable params: </span><span style=\"color: #00af00; text-decoration-color: #00af00\">0</span> (0.00 B)\n",
       "</pre>\n"
      ],
      "text/plain": [
       "\u001b[1m Non-trainable params: \u001b[0m\u001b[38;5;34m0\u001b[0m (0.00 B)\n"
      ]
     },
     "metadata": {},
     "output_type": "display_data"
    },
    {
     "name": "stdout",
     "output_type": "stream",
     "text": [
      "Epoch 1/30\n",
      "\u001b[1m2/2\u001b[0m \u001b[32m━━━━━━━━━━━━━━━━━━━━\u001b[0m\u001b[37m\u001b[0m \u001b[1m1s\u001b[0m 157ms/step - accuracy: 0.6250 - loss: 1.3776 - val_accuracy: 0.6667 - val_loss: 0.6997\n",
      "Epoch 2/30\n",
      "\u001b[1m2/2\u001b[0m \u001b[32m━━━━━━━━━━━━━━━━━━━━\u001b[0m\u001b[37m\u001b[0m \u001b[1m0s\u001b[0m 27ms/step - accuracy: 0.5764 - loss: 0.8568 - val_accuracy: 0.3333 - val_loss: 1.1197\n",
      "Epoch 3/30\n",
      "\u001b[1m2/2\u001b[0m \u001b[32m━━━━━━━━━━━━━━━━━━━━\u001b[0m\u001b[37m\u001b[0m \u001b[1m0s\u001b[0m 24ms/step - accuracy: 0.5764 - loss: 0.8912 - val_accuracy: 0.3333 - val_loss: 1.2863\n",
      "Epoch 4/30\n",
      "\u001b[1m2/2\u001b[0m \u001b[32m━━━━━━━━━━━━━━━━━━━━\u001b[0m\u001b[37m\u001b[0m \u001b[1m0s\u001b[0m 24ms/step - accuracy: 0.5764 - loss: 1.1763 - val_accuracy: 0.5000 - val_loss: 0.6901\n",
      "Epoch 5/30\n",
      "\u001b[1m2/2\u001b[0m \u001b[32m━━━━━━━━━━━━━━━━━━━━\u001b[0m\u001b[37m\u001b[0m \u001b[1m0s\u001b[0m 23ms/step - accuracy: 0.5000 - loss: 0.8854 - val_accuracy: 0.6667 - val_loss: 0.5548\n",
      "Epoch 6/30\n",
      "\u001b[1m2/2\u001b[0m \u001b[32m━━━━━━━━━━━━━━━━━━━━\u001b[0m\u001b[37m\u001b[0m \u001b[1m0s\u001b[0m 23ms/step - accuracy: 0.4931 - loss: 0.8423 - val_accuracy: 0.6667 - val_loss: 0.5499\n",
      "Epoch 7/30\n",
      "\u001b[1m2/2\u001b[0m \u001b[32m━━━━━━━━━━━━━━━━━━━━\u001b[0m\u001b[37m\u001b[0m \u001b[1m0s\u001b[0m 23ms/step - accuracy: 0.5556 - loss: 0.7649 - val_accuracy: 0.8333 - val_loss: 0.5470\n",
      "Epoch 8/30\n",
      "\u001b[1m2/2\u001b[0m \u001b[32m━━━━━━━━━━━━━━━━━━━━\u001b[0m\u001b[37m\u001b[0m \u001b[1m0s\u001b[0m 24ms/step - accuracy: 0.4444 - loss: 0.7371 - val_accuracy: 0.6667 - val_loss: 0.5708\n",
      "Epoch 9/30\n",
      "\u001b[1m2/2\u001b[0m \u001b[32m━━━━━━━━━━━━━━━━━━━━\u001b[0m\u001b[37m\u001b[0m \u001b[1m0s\u001b[0m 23ms/step - accuracy: 0.4306 - loss: 0.7919 - val_accuracy: 0.6667 - val_loss: 0.6094\n",
      "Epoch 10/30\n",
      "\u001b[1m2/2\u001b[0m \u001b[32m━━━━━━━━━━━━━━━━━━━━\u001b[0m\u001b[37m\u001b[0m \u001b[1m0s\u001b[0m 22ms/step - accuracy: 0.3750 - loss: 0.7002 - val_accuracy: 0.6667 - val_loss: 0.6151\n",
      "Epoch 11/30\n",
      "\u001b[1m2/2\u001b[0m \u001b[32m━━━━━━━━━━━━━━━━━━━━\u001b[0m\u001b[37m\u001b[0m \u001b[1m0s\u001b[0m 24ms/step - accuracy: 0.5764 - loss: 0.6523 - val_accuracy: 0.8333 - val_loss: 0.6191\n",
      "Epoch 12/30\n",
      "\u001b[1m2/2\u001b[0m \u001b[32m━━━━━━━━━━━━━━━━━━━━\u001b[0m\u001b[37m\u001b[0m \u001b[1m0s\u001b[0m 24ms/step - accuracy: 0.5486 - loss: 0.7297 - val_accuracy: 0.8333 - val_loss: 0.6240\n",
      "Epoch 13/30\n",
      "\u001b[1m2/2\u001b[0m \u001b[32m━━━━━━━━━━━━━━━━━━━━\u001b[0m\u001b[37m\u001b[0m \u001b[1m0s\u001b[0m 24ms/step - accuracy: 0.5486 - loss: 0.7126 - val_accuracy: 0.8333 - val_loss: 0.6081\n",
      "Epoch 14/30\n",
      "\u001b[1m2/2\u001b[0m \u001b[32m━━━━━━━━━━━━━━━━━━━━\u001b[0m\u001b[37m\u001b[0m \u001b[1m0s\u001b[0m 25ms/step - accuracy: 0.6458 - loss: 0.6760 - val_accuracy: 0.8333 - val_loss: 0.5940\n",
      "Epoch 15/30\n",
      "\u001b[1m2/2\u001b[0m \u001b[32m━━━━━━━━━━━━━━━━━━━━\u001b[0m\u001b[37m\u001b[0m \u001b[1m0s\u001b[0m 27ms/step - accuracy: 0.5486 - loss: 0.6272 - val_accuracy: 0.8333 - val_loss: 0.5798\n",
      "Epoch 16/30\n",
      "\u001b[1m2/2\u001b[0m \u001b[32m━━━━━━━━━━━━━━━━━━━━\u001b[0m\u001b[37m\u001b[0m \u001b[1m0s\u001b[0m 24ms/step - accuracy: 0.6250 - loss: 0.6284 - val_accuracy: 0.8333 - val_loss: 0.5557\n",
      "Epoch 17/30\n",
      "\u001b[1m2/2\u001b[0m \u001b[32m━━━━━━━━━━━━━━━━━━━━\u001b[0m\u001b[37m\u001b[0m \u001b[1m0s\u001b[0m 23ms/step - accuracy: 0.6528 - loss: 0.5956 - val_accuracy: 0.6667 - val_loss: 0.5285\n",
      "Epoch 18/30\n",
      "\u001b[1m2/2\u001b[0m \u001b[32m━━━━━━━━━━━━━━━━━━━━\u001b[0m\u001b[37m\u001b[0m \u001b[1m0s\u001b[0m 23ms/step - accuracy: 0.7292 - loss: 0.5930 - val_accuracy: 0.6667 - val_loss: 0.5130\n",
      "Epoch 19/30\n",
      "\u001b[1m2/2\u001b[0m \u001b[32m━━━━━━━━━━━━━━━━━━━━\u001b[0m\u001b[37m\u001b[0m \u001b[1m0s\u001b[0m 24ms/step - accuracy: 0.6736 - loss: 0.5716 - val_accuracy: 0.6667 - val_loss: 0.4860\n",
      "Epoch 20/30\n",
      "\u001b[1m2/2\u001b[0m \u001b[32m━━━━━━━━━━━━━━━━━━━━\u001b[0m\u001b[37m\u001b[0m \u001b[1m0s\u001b[0m 23ms/step - accuracy: 0.6528 - loss: 0.5740 - val_accuracy: 0.6667 - val_loss: 0.4511\n",
      "Epoch 21/30\n",
      "\u001b[1m2/2\u001b[0m \u001b[32m━━━━━━━━━━━━━━━━━━━━\u001b[0m\u001b[37m\u001b[0m \u001b[1m0s\u001b[0m 23ms/step - accuracy: 0.6667 - loss: 0.5392 - val_accuracy: 0.8333 - val_loss: 0.4694\n",
      "Epoch 22/30\n",
      "\u001b[1m2/2\u001b[0m \u001b[32m━━━━━━━━━━━━━━━━━━━━\u001b[0m\u001b[37m\u001b[0m \u001b[1m0s\u001b[0m 23ms/step - accuracy: 0.7500 - loss: 0.5198 - val_accuracy: 0.6667 - val_loss: 0.5663\n",
      "Epoch 23/30\n",
      "\u001b[1m2/2\u001b[0m \u001b[32m━━━━━━━━━━━━━━━━━━━━\u001b[0m\u001b[37m\u001b[0m \u001b[1m0s\u001b[0m 24ms/step - accuracy: 0.7222 - loss: 0.6065 - val_accuracy: 0.8333 - val_loss: 0.5446\n",
      "Epoch 24/30\n",
      "\u001b[1m2/2\u001b[0m \u001b[32m━━━━━━━━━━━━━━━━━━━━\u001b[0m\u001b[37m\u001b[0m \u001b[1m0s\u001b[0m 23ms/step - accuracy: 0.7986 - loss: 0.5078 - val_accuracy: 0.6667 - val_loss: 0.3814\n",
      "Epoch 25/30\n",
      "\u001b[1m2/2\u001b[0m \u001b[32m━━━━━━━━━━━━━━━━━━━━\u001b[0m\u001b[37m\u001b[0m \u001b[1m0s\u001b[0m 23ms/step - accuracy: 0.7014 - loss: 0.5932 - val_accuracy: 0.6667 - val_loss: 0.3507\n",
      "Epoch 26/30\n",
      "\u001b[1m2/2\u001b[0m \u001b[32m━━━━━━━━━━━━━━━━━━━━\u001b[0m\u001b[37m\u001b[0m \u001b[1m0s\u001b[0m 32ms/step - accuracy: 0.7222 - loss: 0.4872 - val_accuracy: 0.8333 - val_loss: 0.3365\n",
      "Epoch 27/30\n",
      "\u001b[1m2/2\u001b[0m \u001b[32m━━━━━━━━━━━━━━━━━━━━\u001b[0m\u001b[37m\u001b[0m \u001b[1m0s\u001b[0m 22ms/step - accuracy: 0.7500 - loss: 0.4761 - val_accuracy: 0.8333 - val_loss: 0.3385\n",
      "Epoch 28/30\n",
      "\u001b[1m2/2\u001b[0m \u001b[32m━━━━━━━━━━━━━━━━━━━━\u001b[0m\u001b[37m\u001b[0m \u001b[1m0s\u001b[0m 23ms/step - accuracy: 0.8403 - loss: 0.3504 - val_accuracy: 0.8333 - val_loss: 0.4062\n",
      "Epoch 29/30\n",
      "\u001b[1m2/2\u001b[0m \u001b[32m━━━━━━━━━━━━━━━━━━━━\u001b[0m\u001b[37m\u001b[0m \u001b[1m0s\u001b[0m 23ms/step - accuracy: 0.7778 - loss: 0.4706 - val_accuracy: 0.8333 - val_loss: 0.4086\n",
      "Epoch 30/30\n",
      "\u001b[1m2/2\u001b[0m \u001b[32m━━━━━━━━━━━━━━━━━━━━\u001b[0m\u001b[37m\u001b[0m \u001b[1m0s\u001b[0m 24ms/step - accuracy: 0.8472 - loss: 0.3839 - val_accuracy: 0.6667 - val_loss: 0.3796\n",
      "\u001b[1m1/1\u001b[0m \u001b[32m━━━━━━━━━━━━━━━━━━━━\u001b[0m\u001b[37m\u001b[0m \u001b[1m0s\u001b[0m 17ms/step - accuracy: 0.6667 - loss: 0.3796\n",
      "Test Accuracy: 66.67%\n"
     ]
    }
   ],
   "source": [
    "def build_cnn_model(input_shape, num_classes):\n",
    "    model = models.Sequential()\n",
    "    model.add(layers.Conv1D(filters=32, kernel_size=5, activation='relu', padding='same', input_shape=input_shape))\n",
    "    model.add(layers.MaxPooling1D(pool_size=2))\n",
    "    model.add(layers.Conv1D(filters=64, kernel_size=5, activation='relu', padding='same'))\n",
    "    model.add(layers.MaxPooling1D(pool_size=2))\n",
    "    model.add(layers.Conv1D(filters=128, kernel_size=3, activation='relu', padding='same'))\n",
    "    model.add(layers.MaxPooling1D(pool_size=2))\n",
    "    model.add(layers.Flatten())\n",
    "    model.add(layers.Dense(64, activation='relu'))\n",
    "    model.add(layers.Dropout(0.5))\n",
    "    model.add(layers.Dense(num_classes, activation='softmax'))\n",
    "    \n",
    "    model.compile(\n",
    "        optimizer='adam',\n",
    "        loss='sparse_categorical_crossentropy',\n",
    "        metrics=['accuracy']\n",
    "    )\n",
    "    \n",
    "    model.summary()\n",
    "    return model\n",
    "\n",
    "\n",
    "input_shape = (X_train.shape[1], X_train.shape[2]) #(59,18)\n",
    "num_classes = len(np.unique(y_train))\n",
    "\n",
    "print(input_shape)\n",
    "print(num_classes)\n",
    "\n",
    "# 初始化模型\n",
    "model = build_cnn_model(input_shape, num_classes)\n",
    "\n",
    "# 編譯模型\n",
    "model.compile(optimizer='adam', loss='sparse_categorical_crossentropy', metrics=['accuracy'])\n",
    "\n",
    "# 訓練模型\n",
    "epochs = 30\n",
    "batch_size = 16\n",
    "model.fit(X_train, y_train, epochs=epochs, batch_size=batch_size, validation_data=(X_test, y_test))\n",
    "\n",
    "# 評估模型\n",
    "loss, acc = model.evaluate(X_test, y_test)\n",
    "print(f'Test Accuracy: {acc * 100:.2f}%')\n"
   ]
  },
  {
   "cell_type": "code",
   "execution_count": null,
   "metadata": {},
   "outputs": [],
   "source": []
  }
 ],
 "metadata": {
  "kernelspec": {
   "display_name": ".venv",
   "language": "python",
   "name": "python3"
  },
  "language_info": {
   "codemirror_mode": {
    "name": "ipython",
    "version": 3
   },
   "file_extension": ".py",
   "mimetype": "text/x-python",
   "name": "python",
   "nbconvert_exporter": "python",
   "pygments_lexer": "ipython3",
   "version": "3.9.7"
  }
 },
 "nbformat": 4,
 "nbformat_minor": 2
}
