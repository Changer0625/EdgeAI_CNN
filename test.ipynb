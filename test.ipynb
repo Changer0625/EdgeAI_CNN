{
 "cells": [
  {
   "cell_type": "code",
   "execution_count": 2,
   "metadata": {},
   "outputs": [
    {
     "data": {
      "text/plain": [
       "<Figure size 1000x600 with 0 Axes>"
      ]
     },
     "metadata": {},
     "output_type": "display_data"
    }
   ],
   "source": [
    "import load"
   ]
  },
  {
   "cell_type": "code",
   "execution_count": 5,
   "metadata": {},
   "outputs": [
    {
     "name": "stdout",
     "output_type": "stream",
     "text": [
      "Finished building DataFrame\n"
     ]
    }
   ],
   "source": [
    "wesad = load.WESAD()"
   ]
  },
  {
   "cell_type": "code",
   "execution_count": null,
   "metadata": {},
   "outputs": [],
   "source": [
    "df = wesad.separate_and_feature_extract(sample_n=70000)"
   ]
  },
  {
   "cell_type": "code",
   "execution_count": null,
   "metadata": {},
   "outputs": [
    {
     "data": {
      "text/html": [
       "<div>\n",
       "<style scoped>\n",
       "    .dataframe tbody tr th:only-of-type {\n",
       "        vertical-align: middle;\n",
       "    }\n",
       "\n",
       "    .dataframe tbody tr th {\n",
       "        vertical-align: top;\n",
       "    }\n",
       "\n",
       "    .dataframe thead th {\n",
       "        text-align: right;\n",
       "    }\n",
       "</style>\n",
       "<table border=\"1\" class=\"dataframe\">\n",
       "  <thead>\n",
       "    <tr style=\"text-align: right;\">\n",
       "      <th></th>\n",
       "      <th>label</th>\n",
       "      <th>subject</th>\n",
       "      <th>std_ACC_0</th>\n",
       "      <th>mean_ACC_0</th>\n",
       "      <th>std_ACC_1</th>\n",
       "      <th>mean_ACC_1</th>\n",
       "      <th>std_ACC_2</th>\n",
       "      <th>mean_ACC_2</th>\n",
       "      <th>ECG_ULF</th>\n",
       "      <th>ECG_LF</th>\n",
       "      <th>ECG_HF</th>\n",
       "      <th>ECG_UHF</th>\n",
       "      <th>std_EMG</th>\n",
       "      <th>mean_EMG</th>\n",
       "      <th>std_EDA</th>\n",
       "      <th>mean_EDA</th>\n",
       "      <th>std_Resp</th>\n",
       "      <th>mean_Resp</th>\n",
       "      <th>std_Temp</th>\n",
       "      <th>mean_Temp</th>\n",
       "    </tr>\n",
       "  </thead>\n",
       "  <tbody>\n",
       "    <tr>\n",
       "      <th>0</th>\n",
       "      <td>1</td>\n",
       "      <td>S10</td>\n",
       "      <td>0.021268</td>\n",
       "      <td>0.889405</td>\n",
       "      <td>0.063625</td>\n",
       "      <td>0.021046</td>\n",
       "      <td>0.201152</td>\n",
       "      <td>-0.041348</td>\n",
       "      <td>0.0</td>\n",
       "      <td>0.0</td>\n",
       "      <td>0.0</td>\n",
       "      <td>0.003626</td>\n",
       "      <td>0.009653</td>\n",
       "      <td>-0.002545</td>\n",
       "      <td>0.030105</td>\n",
       "      <td>0.787654</td>\n",
       "      <td>2.581328</td>\n",
       "      <td>0.030529</td>\n",
       "      <td>0.115981</td>\n",
       "      <td>34.291607</td>\n",
       "    </tr>\n",
       "    <tr>\n",
       "      <th>1</th>\n",
       "      <td>1</td>\n",
       "      <td>S10</td>\n",
       "      <td>0.021135</td>\n",
       "      <td>0.889580</td>\n",
       "      <td>0.063760</td>\n",
       "      <td>0.020579</td>\n",
       "      <td>0.200702</td>\n",
       "      <td>-0.039128</td>\n",
       "      <td>0.0</td>\n",
       "      <td>0.0</td>\n",
       "      <td>0.0</td>\n",
       "      <td>0.002576</td>\n",
       "      <td>0.009721</td>\n",
       "      <td>-0.002476</td>\n",
       "      <td>0.030146</td>\n",
       "      <td>0.787731</td>\n",
       "      <td>2.579613</td>\n",
       "      <td>0.037631</td>\n",
       "      <td>0.116559</td>\n",
       "      <td>34.290993</td>\n",
       "    </tr>\n",
       "    <tr>\n",
       "      <th>2</th>\n",
       "      <td>1</td>\n",
       "      <td>S10</td>\n",
       "      <td>0.021033</td>\n",
       "      <td>0.889690</td>\n",
       "      <td>0.063731</td>\n",
       "      <td>0.019927</td>\n",
       "      <td>0.200611</td>\n",
       "      <td>-0.037157</td>\n",
       "      <td>0.0</td>\n",
       "      <td>0.0</td>\n",
       "      <td>0.0</td>\n",
       "      <td>0.002208</td>\n",
       "      <td>0.009642</td>\n",
       "      <td>-0.002357</td>\n",
       "      <td>0.029960</td>\n",
       "      <td>0.787858</td>\n",
       "      <td>2.562645</td>\n",
       "      <td>0.045621</td>\n",
       "      <td>0.115626</td>\n",
       "      <td>34.292137</td>\n",
       "    </tr>\n",
       "    <tr>\n",
       "      <th>3</th>\n",
       "      <td>1</td>\n",
       "      <td>S10</td>\n",
       "      <td>0.021132</td>\n",
       "      <td>0.889684</td>\n",
       "      <td>0.063185</td>\n",
       "      <td>0.019906</td>\n",
       "      <td>0.200755</td>\n",
       "      <td>-0.037911</td>\n",
       "      <td>0.0</td>\n",
       "      <td>0.0</td>\n",
       "      <td>0.0</td>\n",
       "      <td>0.002804</td>\n",
       "      <td>0.009721</td>\n",
       "      <td>-0.002401</td>\n",
       "      <td>0.029928</td>\n",
       "      <td>0.787592</td>\n",
       "      <td>2.550647</td>\n",
       "      <td>0.072467</td>\n",
       "      <td>0.115722</td>\n",
       "      <td>34.292122</td>\n",
       "    </tr>\n",
       "    <tr>\n",
       "      <th>4</th>\n",
       "      <td>1</td>\n",
       "      <td>S10</td>\n",
       "      <td>0.021127</td>\n",
       "      <td>0.889671</td>\n",
       "      <td>0.063349</td>\n",
       "      <td>0.020196</td>\n",
       "      <td>0.200653</td>\n",
       "      <td>-0.038379</td>\n",
       "      <td>0.0</td>\n",
       "      <td>0.0</td>\n",
       "      <td>0.0</td>\n",
       "      <td>0.003534</td>\n",
       "      <td>0.009719</td>\n",
       "      <td>-0.002490</td>\n",
       "      <td>0.029872</td>\n",
       "      <td>0.787523</td>\n",
       "      <td>2.555122</td>\n",
       "      <td>0.054938</td>\n",
       "      <td>0.116350</td>\n",
       "      <td>34.291271</td>\n",
       "    </tr>\n",
       "    <tr>\n",
       "      <th>...</th>\n",
       "      <td>...</td>\n",
       "      <td>...</td>\n",
       "      <td>...</td>\n",
       "      <td>...</td>\n",
       "      <td>...</td>\n",
       "      <td>...</td>\n",
       "      <td>...</td>\n",
       "      <td>...</td>\n",
       "      <td>...</td>\n",
       "      <td>...</td>\n",
       "      <td>...</td>\n",
       "      <td>...</td>\n",
       "      <td>...</td>\n",
       "      <td>...</td>\n",
       "      <td>...</td>\n",
       "      <td>...</td>\n",
       "      <td>...</td>\n",
       "      <td>...</td>\n",
       "      <td>...</td>\n",
       "      <td>...</td>\n",
       "    </tr>\n",
       "    <tr>\n",
       "      <th>2695</th>\n",
       "      <td>2</td>\n",
       "      <td>S9</td>\n",
       "      <td>0.031953</td>\n",
       "      <td>0.830737</td>\n",
       "      <td>0.014515</td>\n",
       "      <td>-0.034487</td>\n",
       "      <td>0.080385</td>\n",
       "      <td>-0.411446</td>\n",
       "      <td>0.0</td>\n",
       "      <td>0.0</td>\n",
       "      <td>0.0</td>\n",
       "      <td>0.003643</td>\n",
       "      <td>0.013897</td>\n",
       "      <td>-0.003024</td>\n",
       "      <td>0.332063</td>\n",
       "      <td>3.364410</td>\n",
       "      <td>4.223909</td>\n",
       "      <td>0.050795</td>\n",
       "      <td>0.091995</td>\n",
       "      <td>34.569504</td>\n",
       "    </tr>\n",
       "    <tr>\n",
       "      <th>2696</th>\n",
       "      <td>2</td>\n",
       "      <td>S9</td>\n",
       "      <td>0.031897</td>\n",
       "      <td>0.830854</td>\n",
       "      <td>0.014449</td>\n",
       "      <td>-0.034525</td>\n",
       "      <td>0.079926</td>\n",
       "      <td>-0.411444</td>\n",
       "      <td>0.0</td>\n",
       "      <td>0.0</td>\n",
       "      <td>0.0</td>\n",
       "      <td>0.003213</td>\n",
       "      <td>0.013897</td>\n",
       "      <td>-0.003032</td>\n",
       "      <td>0.332722</td>\n",
       "      <td>3.363477</td>\n",
       "      <td>4.199047</td>\n",
       "      <td>0.060203</td>\n",
       "      <td>0.092407</td>\n",
       "      <td>34.569031</td>\n",
       "    </tr>\n",
       "    <tr>\n",
       "      <th>2697</th>\n",
       "      <td>2</td>\n",
       "      <td>S9</td>\n",
       "      <td>0.031772</td>\n",
       "      <td>0.830868</td>\n",
       "      <td>0.014466</td>\n",
       "      <td>-0.034499</td>\n",
       "      <td>0.079285</td>\n",
       "      <td>-0.411618</td>\n",
       "      <td>0.0</td>\n",
       "      <td>0.0</td>\n",
       "      <td>0.0</td>\n",
       "      <td>0.001997</td>\n",
       "      <td>0.013879</td>\n",
       "      <td>-0.002950</td>\n",
       "      <td>0.332822</td>\n",
       "      <td>3.362155</td>\n",
       "      <td>4.182932</td>\n",
       "      <td>0.069391</td>\n",
       "      <td>0.092159</td>\n",
       "      <td>34.568169</td>\n",
       "    </tr>\n",
       "    <tr>\n",
       "      <th>2698</th>\n",
       "      <td>2</td>\n",
       "      <td>S9</td>\n",
       "      <td>0.031856</td>\n",
       "      <td>0.830919</td>\n",
       "      <td>0.014318</td>\n",
       "      <td>-0.034449</td>\n",
       "      <td>0.079188</td>\n",
       "      <td>-0.411749</td>\n",
       "      <td>0.0</td>\n",
       "      <td>0.0</td>\n",
       "      <td>0.0</td>\n",
       "      <td>0.001567</td>\n",
       "      <td>0.013943</td>\n",
       "      <td>-0.003047</td>\n",
       "      <td>0.333764</td>\n",
       "      <td>3.362070</td>\n",
       "      <td>4.230389</td>\n",
       "      <td>0.092945</td>\n",
       "      <td>0.092468</td>\n",
       "      <td>34.568066</td>\n",
       "    </tr>\n",
       "    <tr>\n",
       "      <th>2699</th>\n",
       "      <td>2</td>\n",
       "      <td>S9</td>\n",
       "      <td>0.031860</td>\n",
       "      <td>0.830874</td>\n",
       "      <td>0.014298</td>\n",
       "      <td>-0.034466</td>\n",
       "      <td>0.078773</td>\n",
       "      <td>-0.412126</td>\n",
       "      <td>0.0</td>\n",
       "      <td>0.0</td>\n",
       "      <td>0.0</td>\n",
       "      <td>0.001422</td>\n",
       "      <td>0.013935</td>\n",
       "      <td>-0.002892</td>\n",
       "      <td>0.334349</td>\n",
       "      <td>3.362693</td>\n",
       "      <td>4.183608</td>\n",
       "      <td>0.039600</td>\n",
       "      <td>0.092335</td>\n",
       "      <td>34.568119</td>\n",
       "    </tr>\n",
       "  </tbody>\n",
       "</table>\n",
       "<p>2700 rows × 20 columns</p>\n",
       "</div>"
      ],
      "text/plain": [
       "      label subject  std_ACC_0  mean_ACC_0  std_ACC_1  mean_ACC_1  std_ACC_2  \\\n",
       "0         1     S10   0.021268    0.889405   0.063625    0.021046   0.201152   \n",
       "1         1     S10   0.021135    0.889580   0.063760    0.020579   0.200702   \n",
       "2         1     S10   0.021033    0.889690   0.063731    0.019927   0.200611   \n",
       "3         1     S10   0.021132    0.889684   0.063185    0.019906   0.200755   \n",
       "4         1     S10   0.021127    0.889671   0.063349    0.020196   0.200653   \n",
       "...     ...     ...        ...         ...        ...         ...        ...   \n",
       "2695      2      S9   0.031953    0.830737   0.014515   -0.034487   0.080385   \n",
       "2696      2      S9   0.031897    0.830854   0.014449   -0.034525   0.079926   \n",
       "2697      2      S9   0.031772    0.830868   0.014466   -0.034499   0.079285   \n",
       "2698      2      S9   0.031856    0.830919   0.014318   -0.034449   0.079188   \n",
       "2699      2      S9   0.031860    0.830874   0.014298   -0.034466   0.078773   \n",
       "\n",
       "      mean_ACC_2  ECG_ULF  ECG_LF  ECG_HF   ECG_UHF   std_EMG  mean_EMG  \\\n",
       "0      -0.041348      0.0     0.0     0.0  0.003626  0.009653 -0.002545   \n",
       "1      -0.039128      0.0     0.0     0.0  0.002576  0.009721 -0.002476   \n",
       "2      -0.037157      0.0     0.0     0.0  0.002208  0.009642 -0.002357   \n",
       "3      -0.037911      0.0     0.0     0.0  0.002804  0.009721 -0.002401   \n",
       "4      -0.038379      0.0     0.0     0.0  0.003534  0.009719 -0.002490   \n",
       "...          ...      ...     ...     ...       ...       ...       ...   \n",
       "2695   -0.411446      0.0     0.0     0.0  0.003643  0.013897 -0.003024   \n",
       "2696   -0.411444      0.0     0.0     0.0  0.003213  0.013897 -0.003032   \n",
       "2697   -0.411618      0.0     0.0     0.0  0.001997  0.013879 -0.002950   \n",
       "2698   -0.411749      0.0     0.0     0.0  0.001567  0.013943 -0.003047   \n",
       "2699   -0.412126      0.0     0.0     0.0  0.001422  0.013935 -0.002892   \n",
       "\n",
       "       std_EDA  mean_EDA  std_Resp  mean_Resp  std_Temp  mean_Temp  \n",
       "0     0.030105  0.787654  2.581328   0.030529  0.115981  34.291607  \n",
       "1     0.030146  0.787731  2.579613   0.037631  0.116559  34.290993  \n",
       "2     0.029960  0.787858  2.562645   0.045621  0.115626  34.292137  \n",
       "3     0.029928  0.787592  2.550647   0.072467  0.115722  34.292122  \n",
       "4     0.029872  0.787523  2.555122   0.054938  0.116350  34.291271  \n",
       "...        ...       ...       ...        ...       ...        ...  \n",
       "2695  0.332063  3.364410  4.223909   0.050795  0.091995  34.569504  \n",
       "2696  0.332722  3.363477  4.199047   0.060203  0.092407  34.569031  \n",
       "2697  0.332822  3.362155  4.182932   0.069391  0.092159  34.568169  \n",
       "2698  0.333764  3.362070  4.230389   0.092945  0.092468  34.568066  \n",
       "2699  0.334349  3.362693  4.183608   0.039600  0.092335  34.568119  \n",
       "\n",
       "[2700 rows x 20 columns]"
      ]
     },
     "execution_count": 15,
     "metadata": {},
     "output_type": "execute_result"
    }
   ],
   "source": [
    "y = df['label']"
   ]
  },
  {
   "cell_type": "code",
   "execution_count": 16,
   "metadata": {},
   "outputs": [
    {
     "name": "stdout",
     "output_type": "stream",
     "text": [
      "Using ready-made DataFrame\n"
     ]
    }
   ],
   "source": [
    "import numpy as np\n",
    "import pickle\n",
    "import pandas as pd\n",
    "import tensorflow as tf\n",
    "from tensorflow.keras import layers, models\n",
    "from sklearn.model_selection import train_test_split\n",
    "from sklearn.preprocessing import StandardScaler\n",
    "import load\n",
    "\n",
    "# 假設你已經載入並預處理 WESAD 數據\n",
    "# X 為 (samples, timesteps, features)，這裡以 EDA 信號為例\n",
    "# y 為壓力狀態類別\n",
    "\n",
    "\n",
    "# 載入資料\n",
    "wesad = load.WESAD()\n",
    "df = wesad.separate_and_feature_extract(sample_n=70000)\n",
    "\n",
    "y = df['label']\n",
    "X = df.drop(['label','subject'],axis=1)\n",
    "X = X.to_numpy()\n",
    "\n"
   ]
  },
  {
   "cell_type": "code",
   "execution_count": 17,
   "metadata": {},
   "outputs": [
    {
     "data": {
      "text/plain": [
       "array([[2.14744128e-02, 8.89088343e-01, 6.25388672e-02, ...,\n",
       "        4.41580636e-02, 1.17837168e-01, 3.42903824e+01],\n",
       "       [2.14858787e-02, 8.89284228e-01, 6.23953697e-02, ...,\n",
       "        7.15630668e-02, 1.18007973e-01, 3.42898560e+01],\n",
       "       [2.16803877e-02, 8.89348571e-01, 6.23235762e-02, ...,\n",
       "        5.10332380e-02, 1.17726304e-01, 3.42899590e+01],\n",
       "       ...,\n",
       "       [3.21990892e-02, 8.31232543e-01, 1.44399885e-02, ...,\n",
       "        2.18331473e-02, 9.19002369e-02, 3.45665703e+01],\n",
       "       [3.21091413e-02, 8.30964771e-01, 1.46026699e-02, ...,\n",
       "        4.43058559e-02, 9.21709687e-02, 3.45668449e+01],\n",
       "       [3.19724222e-02, 8.30674199e-01, 1.45295818e-02, ...,\n",
       "        2.40899222e-02, 9.26876441e-02, 3.45669136e+01]])"
      ]
     },
     "execution_count": 17,
     "metadata": {},
     "output_type": "execute_result"
    }
   ],
   "source": [
    "X"
   ]
  },
  {
   "cell_type": "code",
   "execution_count": 19,
   "metadata": {},
   "outputs": [
    {
     "data": {
      "text/plain": [
       "(2700, 18)"
      ]
     },
     "execution_count": 19,
     "metadata": {},
     "output_type": "execute_result"
    }
   ],
   "source": [
    "X.shape"
   ]
  },
  {
   "cell_type": "code",
   "execution_count": 27,
   "metadata": {},
   "outputs": [
    {
     "data": {
      "text/plain": [
       "8"
      ]
     },
     "execution_count": 27,
     "metadata": {},
     "output_type": "execute_result"
    }
   ],
   "source": [
    "def sum(a,b,c):\n",
    "    return a+b+c\n",
    "\n",
    "\n",
    "sum(*[1,2], 5)"
   ]
  },
  {
   "cell_type": "code",
   "execution_count": 26,
   "metadata": {},
   "outputs": [
    {
     "data": {
      "text/plain": [
       "(2700, 18, 1)"
      ]
     },
     "execution_count": 26,
     "metadata": {},
     "output_type": "execute_result"
    }
   ],
   "source": [
    "X2 = X.reshape(*X.shape, 1).shape\n",
    "X2"
   ]
  },
  {
   "cell_type": "code",
   "execution_count": 22,
   "metadata": {},
   "outputs": [
    {
     "name": "stdout",
     "output_type": "stream",
     "text": [
      "Epoch 1/20\n"
     ]
    },
    {
     "ename": "ValueError",
     "evalue": "Exception encountered when calling Sequential.call().\n\n\u001b[1mInvalid input shape for input Tensor(\"data:0\", shape=(None, 18), dtype=float32). Expected shape (None, 2160, 18), but input has incompatible shape (None, 18)\u001b[0m\n\nArguments received by Sequential.call():\n  • inputs=tf.Tensor(shape=(None, 18), dtype=float32)\n  • training=True\n  • mask=None",
     "output_type": "error",
     "traceback": [
      "\u001b[1;31m---------------------------------------------------------------------------\u001b[0m",
      "\u001b[1;31mValueError\u001b[0m                                Traceback (most recent call last)",
      "Cell \u001b[1;32mIn[22], line 29\u001b[0m\n\u001b[0;32m     27\u001b[0m epochs \u001b[38;5;241m=\u001b[39m \u001b[38;5;241m20\u001b[39m\n\u001b[0;32m     28\u001b[0m batch_size \u001b[38;5;241m=\u001b[39m \u001b[38;5;241m32\u001b[39m\n\u001b[1;32m---> 29\u001b[0m \u001b[43mmodel\u001b[49m\u001b[38;5;241;43m.\u001b[39;49m\u001b[43mfit\u001b[49m\u001b[43m(\u001b[49m\u001b[43mX_train\u001b[49m\u001b[43m,\u001b[49m\u001b[43m \u001b[49m\u001b[43my_train\u001b[49m\u001b[43m,\u001b[49m\u001b[43m \u001b[49m\u001b[43mepochs\u001b[49m\u001b[38;5;241;43m=\u001b[39;49m\u001b[43mepochs\u001b[49m\u001b[43m,\u001b[49m\u001b[43m \u001b[49m\u001b[43mbatch_size\u001b[49m\u001b[38;5;241;43m=\u001b[39;49m\u001b[43mbatch_size\u001b[49m\u001b[43m,\u001b[49m\u001b[43m \u001b[49m\u001b[43mvalidation_data\u001b[49m\u001b[38;5;241;43m=\u001b[39;49m\u001b[43m(\u001b[49m\u001b[43mX_test\u001b[49m\u001b[43m,\u001b[49m\u001b[43m \u001b[49m\u001b[43my_test\u001b[49m\u001b[43m)\u001b[49m\u001b[43m)\u001b[49m\n\u001b[0;32m     31\u001b[0m \u001b[38;5;66;03m# 評估模型\u001b[39;00m\n\u001b[0;32m     32\u001b[0m loss, acc \u001b[38;5;241m=\u001b[39m model\u001b[38;5;241m.\u001b[39mevaluate(X_test, y_test)\n",
      "File \u001b[1;32mc:\\tensorflow\\.venv\\lib\\site-packages\\keras\\src\\utils\\traceback_utils.py:122\u001b[0m, in \u001b[0;36mfilter_traceback.<locals>.error_handler\u001b[1;34m(*args, **kwargs)\u001b[0m\n\u001b[0;32m    119\u001b[0m     filtered_tb \u001b[38;5;241m=\u001b[39m _process_traceback_frames(e\u001b[38;5;241m.\u001b[39m__traceback__)\n\u001b[0;32m    120\u001b[0m     \u001b[38;5;66;03m# To get the full stack trace, call:\u001b[39;00m\n\u001b[0;32m    121\u001b[0m     \u001b[38;5;66;03m# `keras.config.disable_traceback_filtering()`\u001b[39;00m\n\u001b[1;32m--> 122\u001b[0m     \u001b[38;5;28;01mraise\u001b[39;00m e\u001b[38;5;241m.\u001b[39mwith_traceback(filtered_tb) \u001b[38;5;28;01mfrom\u001b[39;00m \u001b[38;5;28mNone\u001b[39m\n\u001b[0;32m    123\u001b[0m \u001b[38;5;28;01mfinally\u001b[39;00m:\n\u001b[0;32m    124\u001b[0m     \u001b[38;5;28;01mdel\u001b[39;00m filtered_tb\n",
      "File \u001b[1;32mc:\\tensorflow\\.venv\\lib\\site-packages\\keras\\src\\models\\functional.py:244\u001b[0m, in \u001b[0;36mFunctional._adjust_input_rank\u001b[1;34m(self, flat_inputs)\u001b[0m\n\u001b[0;32m    242\u001b[0m             adjusted\u001b[38;5;241m.\u001b[39mappend(ops\u001b[38;5;241m.\u001b[39mexpand_dims(x, axis\u001b[38;5;241m=\u001b[39m\u001b[38;5;241m-\u001b[39m\u001b[38;5;241m1\u001b[39m))\n\u001b[0;32m    243\u001b[0m             \u001b[38;5;28;01mcontinue\u001b[39;00m\n\u001b[1;32m--> 244\u001b[0m     \u001b[38;5;28;01mraise\u001b[39;00m \u001b[38;5;167;01mValueError\u001b[39;00m(\n\u001b[0;32m    245\u001b[0m         \u001b[38;5;124mf\u001b[39m\u001b[38;5;124m\"\u001b[39m\u001b[38;5;124mInvalid input shape for input \u001b[39m\u001b[38;5;132;01m{\u001b[39;00mx\u001b[38;5;132;01m}\u001b[39;00m\u001b[38;5;124m. Expected shape \u001b[39m\u001b[38;5;124m\"\u001b[39m\n\u001b[0;32m    246\u001b[0m         \u001b[38;5;124mf\u001b[39m\u001b[38;5;124m\"\u001b[39m\u001b[38;5;132;01m{\u001b[39;00mref_shape\u001b[38;5;132;01m}\u001b[39;00m\u001b[38;5;124m, but input has incompatible shape \u001b[39m\u001b[38;5;132;01m{\u001b[39;00mx\u001b[38;5;241m.\u001b[39mshape\u001b[38;5;132;01m}\u001b[39;00m\u001b[38;5;124m\"\u001b[39m\n\u001b[0;32m    247\u001b[0m     )\n\u001b[0;32m    248\u001b[0m \u001b[38;5;66;03m# Add back metadata.\u001b[39;00m\n\u001b[0;32m    249\u001b[0m \u001b[38;5;28;01mfor\u001b[39;00m i \u001b[38;5;129;01min\u001b[39;00m \u001b[38;5;28mrange\u001b[39m(\u001b[38;5;28mlen\u001b[39m(flat_inputs)):\n",
      "\u001b[1;31mValueError\u001b[0m: Exception encountered when calling Sequential.call().\n\n\u001b[1mInvalid input shape for input Tensor(\"data:0\", shape=(None, 18), dtype=float32). Expected shape (None, 2160, 18), but input has incompatible shape (None, 18)\u001b[0m\n\nArguments received by Sequential.call():\n  • inputs=tf.Tensor(shape=(None, 18), dtype=float32)\n  • training=True\n  • mask=None"
     ]
    }
   ],
   "source": [
    "\n",
    "# 分割訓練測試集\n",
    "X_train, X_test, y_train, y_test = train_test_split(X, y, test_size=0.2, random_state=42)\n",
    "\n",
    "# 建立 1D CNN 模型\n",
    "def build_cnn(input_shape, num_classes):\n",
    "    model = models.Sequential()\n",
    "    model.add(layers.Conv1D(32, 3, activation='relu', input_shape=input_shape))\n",
    "    model.add(layers.MaxPooling1D(2))\n",
    "    model.add(layers.Conv1D(64, 3, activation='relu'))\n",
    "    model.add(layers.MaxPooling1D(2))\n",
    "    model.add(layers.Conv1D(128, 3, activation='relu'))\n",
    "    model.add(layers.MaxPooling1D(2))\n",
    "    model.add(layers.Flatten())\n",
    "    model.add(layers.Dense(128, activation='relu'))\n",
    "    model.add(layers.Dense(num_classes, activation='softmax'))\n",
    "    return model\n",
    "\n",
    "# 初始化模型\n",
    "input_shape = (X_train.shape[0], X_train.shape[1])\n",
    "num_classes = len(np.unique(y))\n",
    "model = build_cnn(input_shape, num_classes)\n",
    "\n",
    "# 編譯模型\n",
    "model.compile(optimizer='adam', loss='sparse_categorical_crossentropy', metrics=['accuracy'])\n",
    "\n",
    "# 訓練模型\n",
    "epochs = 20\n",
    "batch_size = 32\n",
    "model.fit(X_train, y_train, epochs=epochs, batch_size=batch_size, validation_data=(X_test, y_test))\n",
    "\n",
    "# 評估模型\n",
    "loss, acc = model.evaluate(X_test, y_test)\n",
    "print(f'Test Accuracy: {acc * 100:.2f}%')\n"
   ]
  }
 ],
 "metadata": {
  "kernelspec": {
   "display_name": ".venv",
   "language": "python",
   "name": "python3"
  },
  "language_info": {
   "codemirror_mode": {
    "name": "ipython",
    "version": 3
   },
   "file_extension": ".py",
   "mimetype": "text/x-python",
   "name": "python",
   "nbconvert_exporter": "python",
   "pygments_lexer": "ipython3",
   "version": "3.9.7"
  }
 },
 "nbformat": 4,
 "nbformat_minor": 2
}
