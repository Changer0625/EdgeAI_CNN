{
 "cells": [
  {
   "cell_type": "code",
   "execution_count": 1,
   "id": "b41aa9ef",
   "metadata": {},
   "outputs": [
    {
     "name": "stdout",
     "output_type": "stream",
     "text": [
      "success model load\n"
     ]
    }
   ],
   "source": [
    "import cv2\n",
    "import numpy as np\n",
    "\n",
    "cap = cv2.VideoCapture('original_video/full.mp4')\n",
    "\n",
    "net = cv2.dnn.readNetFromCaffe('MobileNet-SSD/deploy.prototxt','MobileNet-SSD/mobilenet_iter_73000.caffemodel')\n",
    "\n",
    "output_video = cv2.VideoWriter('output2_video.mp4', cv2.VideoWriter_fourcc(*'MP4V'), 30, (int(cap.get(3)), int(cap.get(4))), True)\n",
    "\n",
    "if net.empty():\n",
    "    print('No data')\n",
    "else:\n",
    "    print('success model load')"
   ]
  },
  {
   "cell_type": "code",
   "execution_count": 2,
   "id": "7941bddc",
   "metadata": {},
   "outputs": [
    {
     "name": "stdout",
     "output_type": "stream",
     "text": [
      "Success video output\n"
     ]
    }
   ],
   "source": [
    "max_ip=0\n",
    "roi_startX, roi_startY, roi_endX, roi_endY = 180, 100, 730, 400\n",
    "ele_startX, ele_startY, ele_endX, ele_endY = 200, 100, 350, 400\n",
    "door_x, door_y = 260,130\n",
    "door_radius = 5\n",
    "door_color_threshold = 10\n",
    "while True:\n",
    "    ret, frame = cap.read()\n",
    "    if not ret:\n",
    "        break\n",
    "    \n",
    "    door_roi = frame[door_y-door_radius:door_y+door_radius, door_x-door_radius:door_x+door_radius]\n",
    "    door_mean_color = np.mean(door_roi, axis=(0,1))\n",
    "\n",
    "    if door_mean_color[1] - door_mean_color[0] > door_color_threshold:\n",
    "        elevator_doors_open = True\n",
    "        roi_startX = 330\n",
    "    else:\n",
    "        elevator_doors_open = False\n",
    "        roi_startX = 180\n",
    "\n",
    "    door_status = 'Open' if elevator_doors_open else 'Close'\n",
    "    cv2.putText(frame, f'Door Status: {door_status}', (10, 60),cv2.FONT_HERSHEY_SIMPLEX, 1, (0, 0, 255), 2)\n",
    "\n",
    "    roi = frame[roi_startY:roi_endY, roi_startX:roi_endX]\n",
    "    ele = frame[ele_startY:ele_endY, ele_startX:ele_endX]\n",
    "    blob = cv2.dnn.blobFromImage(roi, 0.007843, (300, 300), 127.5, swapRB=True)   \n",
    "    ele_blob = cv2.dnn.blobFromImage(ele, 0.007843, (300, 300), 127.5, swapRB=True)\n",
    "    net.setInput(blob)\n",
    "    detections = net.forward()\n",
    "\n",
    "\n",
    "    cv2.rectangle(frame, (180, roi_startY), (roi_endX, roi_endY), (0, 255, 255), 2)\n",
    "\n",
    "    ep = 0\n",
    "    for i in range(0, detections.shape[2]):\n",
    "        confidence = detections[0, 0, i, 2]\n",
    "        if confidence > 0.7:\n",
    "            class_id = int(detections[0, 0, i, 1])\n",
    "\n",
    "            # 計算偵測框在 ROI 中的位置\n",
    "            box = detections[0, 0, i, 3:7] * np.array([\n",
    "                roi.shape[1], roi.shape[0], roi.shape[1], roi.shape[0]])\n",
    "            (x1, y1, x2, y2) = box.astype(\"int\")\n",
    "\n",
    "            # 加回偏移量到整張 frame 上\n",
    "            x1 += roi_startX\n",
    "            x2 += roi_startX\n",
    "            y1 += roi_startY\n",
    "            y2 += roi_startY\n",
    "\n",
    "            if class_id == 15:  # class_id 15 是 person\n",
    "                cv2.rectangle(frame, (x1, y1), (x2, y2), (255, 0, 0), 2)\n",
    "                ep += 1\n",
    "\n",
    "    text = f'Externel People: {ep}'\n",
    "    cv2.putText(frame, text, (10, 180),\n",
    "                cv2.FONT_HERSHEY_SIMPLEX, 1, (255, 0, 0), 2)\n",
    "    \n",
    "    if elevator_doors_open:\n",
    "        net.setInput(ele_blob)\n",
    "        detections = net.forward()\n",
    "        ip = 0\n",
    "        for i in range(0, detections.shape[2]):\n",
    "            confidence = detections[0, 0, i, 2]\n",
    "            if confidence > 0.4:\n",
    "                class_id = int(detections[0, 0, i, 1])\n",
    "\n",
    "                # 計算偵測框在 ROI 中的位置\n",
    "                box = detections[0, 0, i, 3:7] * np.array([\n",
    "                    ele.shape[1], ele.shape[0], ele.shape[1], ele.shape[0]])\n",
    "                (x1, y1, x2, y2) = box.astype(\"int\")\n",
    "\n",
    "                # 加回偏移量到整張 frame 上\n",
    "                x1 += ele_startX\n",
    "                x2 += ele_startX\n",
    "                y1 += ele_startY\n",
    "                y2 += ele_startY\n",
    "\n",
    "                if class_id == 15:  # class_id 15 是 person\n",
    "                    cv2.rectangle(frame, (x1, y1), (x2, y2), (0, 255, 0), 2)\n",
    "                    ip += 1\n",
    "        if ip > max_ip:\n",
    "            max_ip=ip\n",
    "    text = f'People in Elevator: {max_ip}'\n",
    "    cv2.putText(frame, text, (10, 120),\n",
    "                cv2.FONT_HERSHEY_SIMPLEX, 1, (0, 255, 0), 2)\n",
    "\n",
    "    output_video.write(frame)\n",
    "\n",
    "cap.release()\n",
    "output_video.release()\n",
    "print(\"Success video output\")\n",
    "\n"
   ]
  },
  {
   "cell_type": "code",
   "execution_count": null,
   "id": "5b0519ad",
   "metadata": {},
   "outputs": [],
   "source": []
  }
 ],
 "metadata": {
  "kernelspec": {
   "display_name": ".venv",
   "language": "python",
   "name": "python3"
  },
  "language_info": {
   "codemirror_mode": {
    "name": "ipython",
    "version": 3
   },
   "file_extension": ".py",
   "mimetype": "text/x-python",
   "name": "python",
   "nbconvert_exporter": "python",
   "pygments_lexer": "ipython3",
   "version": "3.9.7"
  }
 },
 "nbformat": 4,
 "nbformat_minor": 5
}
