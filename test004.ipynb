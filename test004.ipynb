{
 "cells": [
  {
   "cell_type": "code",
   "execution_count": 9,
   "id": "dddc1cb7",
   "metadata": {},
   "outputs": [
    {
     "name": "stdout",
     "output_type": "stream",
     "text": [
      "success model load\n"
     ]
    }
   ],
   "source": [
    "import cv2\n",
    "import numpy as np\n",
    "\n",
    "cap = cv2.VideoCapture('original_video/2-1-1.mp4')\n",
    "\n",
    "net = cv2.dnn.readNetFromCaffe('MobileNet-SSD/deploy.prototxt','MobileNet-SSD/mobilenet_iter_73000.caffemodel')\n",
    "\n",
    "roi_startX, roi_startY, roi_endX, roi_endY = 180, 100, 730, 400\n",
    "\n",
    "output_video = cv2.VideoWriter('output1_video.mp4', cv2.VideoWriter_fourcc(*'MP4V'), 30, (int(cap.get(3)), int(cap.get(4))), True)\n",
    "\n",
    "if net.empty():\n",
    "    print('No data')\n",
    "else:\n",
    "    print('success model load')"
   ]
  },
  {
   "cell_type": "code",
   "execution_count": 10,
   "id": "26262675",
   "metadata": {},
   "outputs": [
    {
     "name": "stdout",
     "output_type": "stream",
     "text": [
      "Success video output\n"
     ]
    }
   ],
   "source": [
    "while True:\n",
    "    ret, frame = cap.read()\n",
    "    if not ret:\n",
    "        break\n",
    "\n",
    "    roi = frame[roi_startY:roi_endY, roi_startX:roi_endX]\n",
    "    blob = cv2.dnn.blobFromImage(roi, 0.007843, (300, 300), 127.5, swapRB=True)\n",
    "    net.setInput(blob)\n",
    "    detections = net.forward()\n",
    "\n",
    "    cv2.rectangle(frame, (roi_startX, roi_startY), (roi_endX, roi_endY), (255, 0, 0), 2)\n",
    "\n",
    "    p = 0\n",
    "    for i in range(0, detections.shape[2]):\n",
    "        confidence = detections[0, 0, i, 2]\n",
    "        if confidence > 0.7:\n",
    "            class_id = int(detections[0, 0, i, 1])\n",
    "\n",
    "            # 計算偵測框在 ROI 中的位置\n",
    "            box = detections[0, 0, i, 3:7] * np.array([\n",
    "                roi.shape[1], roi.shape[0], roi.shape[1], roi.shape[0]])\n",
    "            (x1, y1, x2, y2) = box.astype(\"int\")\n",
    "\n",
    "            # 加回偏移量到整張 frame 上\n",
    "            x1 += roi_startX\n",
    "            x2 += roi_startX\n",
    "            y1 += roi_startY\n",
    "            y2 += roi_startY\n",
    "\n",
    "            # 畫框（黃色）\n",
    "            cv2.rectangle(frame, (x1, y1), (x2, y2), (0, 255, 255), 2)\n",
    "\n",
    "            if class_id == 15:  # class_id 15 是 person\n",
    "                p += 1\n",
    "\n",
    "    text = f'People: {p}'\n",
    "    cv2.putText(frame, text, (roi_startX, roi_startY - 10),\n",
    "                cv2.FONT_HERSHEY_SIMPLEX, 1, (0, 255, 0), 2)\n",
    "\n",
    "    output_video.write(frame)\n",
    "\n",
    "cap.release()\n",
    "output_video.release()\n",
    "print(\"Success video output\")\n",
    "\n"
   ]
  },
  {
   "cell_type": "code",
   "execution_count": null,
   "id": "4de39dd5",
   "metadata": {},
   "outputs": [],
   "source": []
  }
 ],
 "metadata": {
  "kernelspec": {
   "display_name": ".venv",
   "language": "python",
   "name": "python3"
  },
  "language_info": {
   "codemirror_mode": {
    "name": "ipython",
    "version": 3
   },
   "file_extension": ".py",
   "mimetype": "text/x-python",
   "name": "python",
   "nbconvert_exporter": "python",
   "pygments_lexer": "ipython3",
   "version": "3.9.7"
  }
 },
 "nbformat": 4,
 "nbformat_minor": 5
}
